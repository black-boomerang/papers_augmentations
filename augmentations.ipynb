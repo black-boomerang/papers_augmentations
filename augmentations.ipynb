{
 "cells": [
  {
   "cell_type": "code",
   "execution_count": 1,
   "id": "2b0cd891",
   "metadata": {},
   "outputs": [
    {
     "name": "stderr",
     "output_type": "stream",
     "text": [
      "C:\\Users\\alejo\\Anaconda3\\envs\\CV\\lib\\site-packages\\dask\\config.py:168: YAMLLoadWarning: calling yaml.load() without Loader=... is deprecated, as the default Loader is unsafe. Please read https://msg.pyyaml.org/load for full details.\n",
      "  data = yaml.load(f.read()) or {}\n"
     ]
    }
   ],
   "source": [
    "import albumentations as A\n",
    "import cv2\n",
    "import matplotlib.pyplot as plt\n",
    "import numpy as np\n",
    "import random\n",
    "import os"
   ]
  },
  {
   "cell_type": "markdown",
   "id": "e254aa59",
   "metadata": {},
   "source": [
    "Функция, производящая преобразования:"
   ]
  },
  {
   "cell_type": "code",
   "execution_count": 2,
   "id": "ea911b3f",
   "metadata": {
    "scrolled": false
   },
   "outputs": [],
   "source": [
    "def gen_background(dir_name, x_max, y_max):\n",
    "    backgrounds = os.listdir(dir_name)\n",
    "    bg_num = random.randint(0, len(backgrounds) - 1)\n",
    "    bg_name = os.path.join(dir_name, backgrounds[bg_num])\n",
    "    \n",
    "    background = cv2.imread(bg_name)\n",
    "    background = cv2.cvtColor(background, cv2.COLOR_BGR2BGRA)\n",
    "    background = cv2.resize(background, (x_max, y_max))\n",
    "    background = A.Rotate()(image=background)['image']\n",
    "    \n",
    "    return background\n",
    "\n",
    "def transform_image(input_name, output_name):\n",
    "    image = cv2.imread(input_name)\n",
    "    image = cv2.cvtColor(image, cv2.COLOR_BGR2BGRA)\n",
    "    y_max, x_max, _ = image.shape\n",
    "    \n",
    "    background = gen_background('backgrounds', x_max, y_max)\n",
    "    \n",
    "    pts1 = np.float32([[0, 0], [x_max, 0], [0, y_max], [x_max, y_max]])\n",
    "    \n",
    "    x_left_k = np.random.uniform(0, 0.2)\n",
    "    x_right_k = np.random.uniform(0.8, 1)\n",
    "    bg_left = 0\n",
    "    bg_right = y_max\n",
    "    \n",
    "    # перспективное искажение\n",
    "    if random.random() < 0.75: # вид снизу вверх\n",
    "        y_top_left_k = np.random.uniform(0, 0.2)\n",
    "        y_top_right_k = np.random.uniform(0, 0.2)\n",
    "        pts2 = np.float32([[x_max * x_left_k, y_max * y_top_left_k], [x_max * x_right_k, y_max * y_top_right_k],\n",
    "                           [0, y_max], [x_max, y_max]])\n",
    "        bg_left = int(y_max * max(y_top_left_k, y_top_right_k))\n",
    "    else: # вид сверху вниз\n",
    "        y_bottom_left_k = np.random.uniform(0.8, 1)\n",
    "        y_bottom_right_k = np.random.uniform(0.8, 1)\n",
    "        pts2 = np.float32([[0, 0], [x_max, 0],\n",
    "                           [x_max * x_left_k, y_max * y_bottom_left_k], [x_max * x_right_k, y_max * y_bottom_right_k]])\n",
    "        bg_right = int(y_max * min(y_bottom_left_k, y_bottom_right_k))\n",
    "    \n",
    "    transform_matrix = cv2.getPerspectiveTransform(pts1, pts2)\n",
    "    dst = cv2.warpPerspective(image, transform_matrix, (x_max, y_max), borderMode=cv2.BORDER_TRANSPARENT)\n",
    "    \n",
    "    border_width = (x_max * np.random.uniform(0.1, 0.2, size=4)).astype(int)\n",
    "    dst = cv2.copyMakeBorder(dst, *border_width.tolist(), cv2.BORDER_CONSTANT, cv2.BORDER_TRANSPARENT)\n",
    "    dst = cv2.resize(dst, (x_max, y_max))\n",
    "    \n",
    "    # добавление фона\n",
    "    background = cv2.warpPerspective(background, transform_matrix, (x_max, y_max), borderMode=cv2.BORDER_REFLECT101)\n",
    "    background = background[bg_left:bg_right, int(x_max * x_left_k):int(x_max * x_right_k)]\n",
    "    background = cv2.resize(background, (x_max, y_max))\n",
    "\n",
    "    mask = dst[:, :, 3] == 255\n",
    "    background[mask] = 0\n",
    "    dst = cv2.add(dst, background)\n",
    "    \n",
    "    # освещение\n",
    "    b = cv2.imread('backgrounds\\\\table_1.jpg')\n",
    "    b = cv2.cvtColor(b, cv2.COLOR_BGR2BGRA)\n",
    "    b = cv2.resize(b, (x_max, y_max))\n",
    "    scale = random.randint(50, 500) * 2 + 1\n",
    "    lightning = cv2.GaussianBlur(dst, (scale, scale), 0)\n",
    "    dst = cv2.addWeighted(dst, 1, lightning, 0.3, 0)\n",
    "    \n",
    "    # размытие\n",
    "    if random.random() < 0.8:\n",
    "        scale_x = random.randint(0, 15) * 2 + 1\n",
    "        scale_y = random.randint(0, 15) * 2 + 1\n",
    "        dst = cv2.GaussianBlur(dst, (scale_x, scale_y), 0)\n",
    "    \n",
    "    # яркость\n",
    "    dst = A.RandomBrightnessContrast(brightness_limit=(-0.3, 0), contrast_limit=0, p=0.7)(image=dst)['image']\n",
    "    dst = A.RandomToneCurve(p=1.)(image=dst[:, :, 0:3])['image']\n",
    "\n",
    "    cv2.imwrite(output_name, dst)"
   ]
  },
  {
   "cell_type": "markdown",
   "id": "700409d9",
   "metadata": {},
   "source": [
    "Применение ко всем изображениям:"
   ]
  },
  {
   "cell_type": "code",
   "execution_count": 3,
   "id": "f4fdf8ee",
   "metadata": {},
   "outputs": [],
   "source": [
    "for image_num, image_name in enumerate(os.listdir('images')):\n",
    "    for i in range(10):\n",
    "        transform_image(os.path.join('images', image_name), os.path.join('aug_images', f'{image_num + 1}_{i + 1}.png'))"
   ]
  }
 ],
 "metadata": {
  "kernelspec": {
   "display_name": "Python 3 (ipykernel)",
   "language": "python",
   "name": "python3"
  },
  "language_info": {
   "codemirror_mode": {
    "name": "ipython",
    "version": 3
   },
   "file_extension": ".py",
   "mimetype": "text/x-python",
   "name": "python",
   "nbconvert_exporter": "python",
   "pygments_lexer": "ipython3",
   "version": "3.7.11"
  }
 },
 "nbformat": 4,
 "nbformat_minor": 5
}
